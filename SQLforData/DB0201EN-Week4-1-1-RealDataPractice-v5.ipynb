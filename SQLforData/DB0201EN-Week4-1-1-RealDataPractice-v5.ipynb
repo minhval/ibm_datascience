{
 "cells": [
  {
   "cell_type": "markdown",
   "metadata": {},
   "source": [
    "<center>\n",
    "    <img src=\"https://s3-api.us-geo.objectstorage.softlayer.net/cf-courses-data/CognitiveClass/Logos/organization_logo/organization_logo.png\" width=\"300\" alt=\"cognitiveclass.ai logo\"  />\n",
    "</center>\n",
    "\n",
    "# Working with a real world data-set using SQL and Python\n",
    "\n",
    "Estaimted time needed: **30** minutes\n",
    "\n",
    "## Objectives\n",
    "\n",
    "After complting this lab you will be able to:\n",
    "\n",
    "*   Understand the dataset for Chicago Public School level performance\n",
    "*   Store the dataset in an Db2 database on IBM Cloud instance\n",
    "*   Retrieve metadata about tables and columns and query data from mixed case columns\n",
    "*   Solve example problems to practice your SQL skills including using built-in database functions\n"
   ]
  },
  {
   "cell_type": "markdown",
   "metadata": {},
   "source": [
    "## Chicago Public Schools - Progress Report Cards (2011-2012)\n",
    "\n",
    "The city of Chicago released a dataset showing all school level performance data used to create School Report Cards for the 2011-2012 school year. The dataset is available from the Chicago Data Portal: [https://data.cityofchicago.org/Education/Chicago-Public-Schools-Progress-Report-Cards-2011-/9xs2-f89t](https://data.cityofchicago.org/Education/Chicago-Public-Schools-Progress-Report-Cards-2011-/9xs2-f89t?utm_medium=Exinfluencer&utm_source=Exinfluencer&utm_content=000026UJ&utm_term=10006555&utm_id=NA-SkillsNetwork-Channel-SkillsNetworkCoursesIBMDeveloperSkillsNetworkDB0201ENSkillsNetwork20127838-2021-01-01&cm_mmc=Email_Newsletter-\\_-Developer_Ed%2BTech-\\_-WW_WW-\\_-SkillsNetwork-Courses-IBMDeveloperSkillsNetwork-DB0201EN-SkillsNetwork-20127838&cm_mmca1=000026UJ&cm_mmca2=10006555&cm_mmca3=M12345678&cvosrc=email.Newsletter.M12345678&cvo_campaign=000026UJ)\n",
    "\n",
    "This dataset includes a large number of metrics. Start by familiarizing yourself with the types of metrics in the database: [https://data.cityofchicago.org/api/assets/AAD41A13-BE8A-4E67-B1F5-86E711E09D5F?download=true](https://data.cityofchicago.org/api/assets/AAD41A13-BE8A-4E67-B1F5-86E711E09D5F?utm_medium=Exinfluencer&utm_source=Exinfluencer&utm_content=000026UJ&utm_term=10006555&utm_id=NA-SkillsNetwork-Channel-SkillsNetworkCoursesIBMDeveloperSkillsNetworkDB0201ENSkillsNetwork20127838-2021-01-01&download=true&cm_mmc=Email_Newsletter-\\_-Developer_Ed%2BTech-\\_-WW_WW-\\_-SkillsNetwork-Courses-IBMDeveloperSkillsNetwork-DB0201EN-SkillsNetwork-20127838&cm_mmca1=000026UJ&cm_mmca2=10006555&cm_mmca3=M12345678&cvosrc=email.Newsletter.M12345678&cvo_campaign=000026UJ)\n",
    "\n",
    "**NOTE**:\n",
    "\n",
    "Do not download the dataset directly from City of Chicago portal. Instead download a static copy which is a more database friendly version from this <a href=\"https://cf-courses-data.s3.us.cloud-object-storage.appdomain.cloud/IBMDeveloperSkillsNetwork-DB0201EN-SkillsNetwork/labs/FinalModule_Coursera_V5/data/ChicagoPublicSchools.csv?utm_medium=Exinfluencer&utm_source=Exinfluencer&utm_content=000026UJ&utm_term=10006555&utm_id=NA-SkillsNetwork-Channel-SkillsNetworkCoursesIBMDeveloperSkillsNetworkDB0201ENSkillsNetwork20127838-2021-01-01\">link</a>.\n",
    "\n",
    "Now review some of its contents.\n"
   ]
  },
  {
   "cell_type": "markdown",
   "metadata": {},
   "source": [
    "### Store the dataset in a Table\n",
    "\n",
    "In many cases the dataset to be analyzed is available as a .CSV (comma separated values) file, perhaps on the internet. To analyze the data using SQL, it first needs to be stored in the database.\n",
    "\n",
    "While it is easier to read the dataset into a Pandas dataframe and then PERSIST it into the database as we saw in the previous lab, it results in mapping to default datatypes which may not be optimal for SQL querying. For example a long textual field may map to a CLOB instead of a VARCHAR.\n",
    "\n",
    "Therefore, **it is highly recommended to manually load the table using the database console LOAD tool, as indicated in Week 2 Lab 1 Part II**. The only difference with that lab is that in Step 5 of the instructions you will need to click on create \"(+) New Table\" and specify the name of the table you want to create and then click \"Next\".\n",
    "\n",
    "##### Now open the Db2 console, open the LOAD tool, Select / Drag the .CSV file for the CHICAGO PUBLIC SCHOOLS dataset and load the dataset into a new table called **SCHOOLS**.\n",
    "\n",
    "<a href=\"https://cognitiveclass.ai/?utm_medium=Exinfluencer&utm_source=Exinfluencer&utm_content=000026UJ&utm_term=10006555&utm_id=NA-SkillsNetwork-Channel-SkillsNetworkCoursesIBMDeveloperSkillsNetworkDB0201ENSkillsNetwork20127838-2021-01-01\"><img src = \"https://ibm.box.com/shared/static/uc4xjh1uxcc78ks1i18v668simioz4es.jpg\"></a>\n"
   ]
  },
  {
   "cell_type": "markdown",
   "metadata": {},
   "source": [
    "### Connect to the database\n",
    "\n",
    "Let us now load the ipython-sql  extension and establish a connection with the database\n",
    "\n",
    "The following modules are pre-installed in the Skills Network Labs environment. However if you run this notebook commands in a different Jupyter environment (e.g. Watson Studio or Ananconda) you may need to install these libraries by removing the `#` sign before `!pip` in the code cell below.\n"
   ]
  },
  {
   "cell_type": "code",
   "execution_count": 1,
   "metadata": {},
   "outputs": [
    {
     "name": "stdout",
     "output_type": "stream",
     "text": [
      "Collecting ibm_db==3.1.0\n",
      "  Using cached ibm_db-3.1.0-cp37-cp37m-linux_x86_64.whl\n",
      "Collecting ibm_db_sa==0.3.3\n",
      "  Using cached ibm_db_sa-0.3.3-py3-none-any.whl\n",
      "Collecting sqlalchemy>=0.7.3\n",
      "  Using cached SQLAlchemy-1.4.31-cp37-cp37m-manylinux_2_5_x86_64.manylinux1_x86_64.manylinux_2_17_x86_64.manylinux2014_x86_64.whl (1.6 MB)\n",
      "Collecting importlib-metadata\n",
      "  Using cached importlib_metadata-4.10.1-py3-none-any.whl (17 kB)\n",
      "Collecting greenlet!=0.4.17\n",
      "  Using cached greenlet-1.1.2-cp37-cp37m-manylinux_2_17_x86_64.manylinux2014_x86_64.whl (150 kB)\n",
      "Collecting typing-extensions>=3.6.4\n",
      "  Using cached typing_extensions-4.0.1-py3-none-any.whl (22 kB)\n",
      "Collecting zipp>=0.5\n",
      "  Using cached zipp-3.7.0-py3-none-any.whl (5.3 kB)\n",
      "Installing collected packages: zipp, typing-extensions, importlib-metadata, greenlet, sqlalchemy, ibm-db-sa, ibm-db\n",
      "  Attempting uninstall: zipp\n",
      "    Found existing installation: zipp 3.7.0\n",
      "    Uninstalling zipp-3.7.0:\n",
      "      Successfully uninstalled zipp-3.7.0\n",
      "  Attempting uninstall: typing-extensions\n",
      "    Found existing installation: typing-extensions 4.0.1\n",
      "    Uninstalling typing-extensions-4.0.1:\n",
      "      Successfully uninstalled typing-extensions-4.0.1\n",
      "  Attempting uninstall: importlib-metadata\n",
      "    Found existing installation: importlib-metadata 4.10.1\n",
      "    Uninstalling importlib-metadata-4.10.1:\n",
      "      Successfully uninstalled importlib-metadata-4.10.1\n",
      "  Attempting uninstall: greenlet\n",
      "    Found existing installation: greenlet 1.1.2\n",
      "    Uninstalling greenlet-1.1.2:\n",
      "      Successfully uninstalled greenlet-1.1.2\n",
      "  Attempting uninstall: sqlalchemy\n",
      "    Found existing installation: SQLAlchemy 1.3.24\n",
      "    Uninstalling SQLAlchemy-1.3.24:\n",
      "      Successfully uninstalled SQLAlchemy-1.3.24\n",
      "  Attempting uninstall: ibm-db-sa\n",
      "    Found existing installation: ibm-db-sa 0.3.3\n",
      "    Uninstalling ibm-db-sa-0.3.3:\n",
      "      Successfully uninstalled ibm-db-sa-0.3.3\n",
      "  Attempting uninstall: ibm-db\n",
      "    Found existing installation: ibm-db 3.1.0\n",
      "    Uninstalling ibm-db-3.1.0:\n",
      "      Successfully uninstalled ibm-db-3.1.0\n",
      "Successfully installed greenlet-1.1.2 ibm-db-3.1.0 ibm-db-sa-0.3.3 importlib-metadata-4.10.1 sqlalchemy-1.4.31 typing-extensions-4.0.1 zipp-3.7.0\n",
      "Found existing installation: SQLAlchemy 1.4.31\n",
      "Uninstalling SQLAlchemy-1.4.31:\n",
      "  Successfully uninstalled SQLAlchemy-1.4.31\n",
      "Collecting sqlalchemy==1.3.24\n",
      "  Using cached SQLAlchemy-1.3.24-cp37-cp37m-manylinux2010_x86_64.whl (1.3 MB)\n",
      "Installing collected packages: sqlalchemy\n",
      "Successfully installed sqlalchemy-1.3.24\n",
      "Requirement already satisfied: ipython-sql in /home/jupyterlab/conda/envs/python/lib/python3.7/site-packages (0.3.9)\n",
      "Requirement already satisfied: ipython>=1.0 in /home/jupyterlab/conda/envs/python/lib/python3.7/site-packages (from ipython-sql) (7.30.0)\n",
      "Requirement already satisfied: ipython-genutils>=0.1.0 in /home/jupyterlab/conda/envs/python/lib/python3.7/site-packages (from ipython-sql) (0.2.0)\n",
      "Requirement already satisfied: prettytable in /home/jupyterlab/conda/envs/python/lib/python3.7/site-packages (from ipython-sql) (2.4.0)\n",
      "Requirement already satisfied: six in /home/jupyterlab/conda/envs/python/lib/python3.7/site-packages (from ipython-sql) (1.16.0)\n",
      "Requirement already satisfied: sqlalchemy>=0.6.7 in /home/jupyterlab/conda/envs/python/lib/python3.7/site-packages (from ipython-sql) (1.3.24)\n",
      "Requirement already satisfied: sqlparse in /home/jupyterlab/conda/envs/python/lib/python3.7/site-packages (from ipython-sql) (0.4.2)\n",
      "Requirement already satisfied: jedi>=0.16 in /home/jupyterlab/conda/envs/python/lib/python3.7/site-packages (from ipython>=1.0->ipython-sql) (0.18.1)\n",
      "Requirement already satisfied: prompt-toolkit!=3.0.0,!=3.0.1,<3.1.0,>=2.0.0 in /home/jupyterlab/conda/envs/python/lib/python3.7/site-packages (from ipython>=1.0->ipython-sql) (3.0.22)\n",
      "Requirement already satisfied: pexpect>4.3 in /home/jupyterlab/conda/envs/python/lib/python3.7/site-packages (from ipython>=1.0->ipython-sql) (4.8.0)\n",
      "Requirement already satisfied: pickleshare in /home/jupyterlab/conda/envs/python/lib/python3.7/site-packages (from ipython>=1.0->ipython-sql) (0.7.5)\n",
      "Requirement already satisfied: traitlets>=4.2 in /home/jupyterlab/conda/envs/python/lib/python3.7/site-packages (from ipython>=1.0->ipython-sql) (5.1.1)\n",
      "Requirement already satisfied: backcall in /home/jupyterlab/conda/envs/python/lib/python3.7/site-packages (from ipython>=1.0->ipython-sql) (0.2.0)\n",
      "Requirement already satisfied: decorator in /home/jupyterlab/conda/envs/python/lib/python3.7/site-packages (from ipython>=1.0->ipython-sql) (5.1.0)\n",
      "Requirement already satisfied: pygments in /home/jupyterlab/conda/envs/python/lib/python3.7/site-packages (from ipython>=1.0->ipython-sql) (2.10.0)\n",
      "Requirement already satisfied: setuptools>=18.5 in /home/jupyterlab/conda/envs/python/lib/python3.7/site-packages (from ipython>=1.0->ipython-sql) (59.4.0)\n",
      "Requirement already satisfied: matplotlib-inline in /home/jupyterlab/conda/envs/python/lib/python3.7/site-packages (from ipython>=1.0->ipython-sql) (0.1.3)\n",
      "Requirement already satisfied: wcwidth in /home/jupyterlab/conda/envs/python/lib/python3.7/site-packages (from prettytable->ipython-sql) (0.2.5)\n",
      "Requirement already satisfied: importlib-metadata in /home/jupyterlab/conda/envs/python/lib/python3.7/site-packages (from prettytable->ipython-sql) (4.10.1)\n",
      "Requirement already satisfied: parso<0.9.0,>=0.8.0 in /home/jupyterlab/conda/envs/python/lib/python3.7/site-packages (from jedi>=0.16->ipython>=1.0->ipython-sql) (0.8.3)\n",
      "Requirement already satisfied: ptyprocess>=0.5 in /home/jupyterlab/conda/envs/python/lib/python3.7/site-packages (from pexpect>4.3->ipython>=1.0->ipython-sql) (0.7.0)\n",
      "Requirement already satisfied: typing-extensions>=3.6.4 in /home/jupyterlab/conda/envs/python/lib/python3.7/site-packages (from importlib-metadata->prettytable->ipython-sql) (4.0.1)\n",
      "Requirement already satisfied: zipp>=0.5 in /home/jupyterlab/conda/envs/python/lib/python3.7/site-packages (from importlib-metadata->prettytable->ipython-sql) (3.7.0)\n"
     ]
    }
   ],
   "source": [
    "# These libraries are pre-installed in SN Labs. If running in another environment please uncomment lines below to install them:\n",
    "!pip install --force-reinstall ibm_db==3.1.0 ibm_db_sa==0.3.3\n",
    "# Ensure we don't load_ext with sqlalchemy>=1.4 (incompadible)\n",
    "!pip uninstall sqlalchemy==1.4 -y && pip install sqlalchemy==1.3.24\n",
    "!pip install ipython-sql"
   ]
  },
  {
   "cell_type": "code",
   "execution_count": 2,
   "metadata": {},
   "outputs": [],
   "source": [
    "%load_ext sql"
   ]
  },
  {
   "cell_type": "code",
   "execution_count": 20,
   "metadata": {},
   "outputs": [
    {
     "data": {
      "text/plain": [
       "'Connected: drl83299@BLUDB'"
      ]
     },
     "execution_count": 20,
     "metadata": {},
     "output_type": "execute_result"
    }
   ],
   "source": [
    "%sql ibm_db_sa://drl83299:PEMu5rltwlp4jkPG@764264db-9824-4b7c-82df-40d1b13897c2.bs2io90l08kqb1od8lcg.databases.appdomain.cloud:32536/BLUDB?security=SSL\n",
    "# %sql ibm_db_sa://"
   ]
  },
  {
   "cell_type": "markdown",
   "metadata": {},
   "source": [
    "### Query the database system catalog to retrieve table metadata\n",
    "\n",
    "##### You can verify that the table creation was successful by retrieving the list of all tables in your schema and checking whether the SCHOOLS table was created\n"
   ]
  },
  {
   "cell_type": "code",
   "execution_count": 21,
   "metadata": {},
   "outputs": [
    {
     "name": "stdout",
     "output_type": "stream",
     "text": [
      " * ibm_db_sa://drl83299:***@764264db-9824-4b7c-82df-40d1b13897c2.bs2io90l08kqb1od8lcg.databases.appdomain.cloud:32536/BLUDB\n",
      "Done.\n"
     ]
    },
    {
     "data": {
      "text/html": [
       "<table>\n",
       "    <thead>\n",
       "        <tr>\n",
       "            <th>tabschema</th>\n",
       "            <th>tabname</th>\n",
       "            <th>owner</th>\n",
       "            <th>ownertype</th>\n",
       "            <th>TYPE</th>\n",
       "            <th>status</th>\n",
       "            <th>base_tabschema</th>\n",
       "            <th>base_tabname</th>\n",
       "            <th>rowtypeschema</th>\n",
       "            <th>rowtypename</th>\n",
       "            <th>create_time</th>\n",
       "            <th>alter_time</th>\n",
       "            <th>invalidate_time</th>\n",
       "            <th>stats_time</th>\n",
       "            <th>colcount</th>\n",
       "            <th>tableid</th>\n",
       "            <th>tbspaceid</th>\n",
       "            <th>card</th>\n",
       "            <th>npages</th>\n",
       "            <th>mpages</th>\n",
       "            <th>fpages</th>\n",
       "            <th>npartitions</th>\n",
       "            <th>nfiles</th>\n",
       "            <th>tablesize</th>\n",
       "            <th>overflow</th>\n",
       "            <th>tbspace</th>\n",
       "            <th>index_tbspace</th>\n",
       "            <th>long_tbspace</th>\n",
       "            <th>parents</th>\n",
       "            <th>children</th>\n",
       "            <th>selfrefs</th>\n",
       "            <th>keycolumns</th>\n",
       "            <th>keyindexid</th>\n",
       "            <th>keyunique</th>\n",
       "            <th>checkcount</th>\n",
       "            <th>datacapture</th>\n",
       "            <th>const_checked</th>\n",
       "            <th>pmap_id</th>\n",
       "            <th>partition_mode</th>\n",
       "            <th>log_attribute</th>\n",
       "            <th>pctfree</th>\n",
       "            <th>append_mode</th>\n",
       "            <th>REFRESH</th>\n",
       "            <th>refresh_time</th>\n",
       "            <th>LOCKSIZE</th>\n",
       "            <th>VOLATILE</th>\n",
       "            <th>row_format</th>\n",
       "            <th>property</th>\n",
       "            <th>statistics_profile</th>\n",
       "            <th>compression</th>\n",
       "            <th>rowcompmode</th>\n",
       "            <th>access_mode</th>\n",
       "            <th>clustered</th>\n",
       "            <th>active_blocks</th>\n",
       "            <th>droprule</th>\n",
       "            <th>maxfreespacesearch</th>\n",
       "            <th>avgcompressedrowsize</th>\n",
       "            <th>avgrowcompressionratio</th>\n",
       "            <th>avgrowsize</th>\n",
       "            <th>pctrowscompressed</th>\n",
       "            <th>logindexbuild</th>\n",
       "            <th>codepage</th>\n",
       "            <th>collationschema</th>\n",
       "            <th>collationname</th>\n",
       "            <th>collationschema_orderby</th>\n",
       "            <th>collationname_orderby</th>\n",
       "            <th>encoding_scheme</th>\n",
       "            <th>pctpagessaved</th>\n",
       "            <th>last_regen_time</th>\n",
       "            <th>secpolicyid</th>\n",
       "            <th>protectiongranularity</th>\n",
       "            <th>auditpolicyid</th>\n",
       "            <th>auditpolicyname</th>\n",
       "            <th>auditexceptionenabled</th>\n",
       "            <th>definer</th>\n",
       "            <th>oncommit</th>\n",
       "            <th>logged</th>\n",
       "            <th>onrollback</th>\n",
       "            <th>lastused</th>\n",
       "            <th>control</th>\n",
       "            <th>temporaltype</th>\n",
       "            <th>tableorg</th>\n",
       "            <th>extended_row_size</th>\n",
       "            <th>pctextendedrows</th>\n",
       "            <th>remarks</th>\n",
       "        </tr>\n",
       "    </thead>\n",
       "    <tbody>\n",
       "        <tr>\n",
       "            <td>DRL83299</td>\n",
       "            <td>SCHOOLS</td>\n",
       "            <td>DRL83299</td>\n",
       "            <td>U</td>\n",
       "            <td>T</td>\n",
       "            <td>N</td>\n",
       "            <td>None</td>\n",
       "            <td>None</td>\n",
       "            <td>None</td>\n",
       "            <td>None</td>\n",
       "            <td>2022-01-31 10:13:03.351663</td>\n",
       "            <td>2022-01-31 10:13:03.351663</td>\n",
       "            <td>2022-01-31 10:13:03.351663</td>\n",
       "            <td>None</td>\n",
       "            <td>78</td>\n",
       "            <td>13</td>\n",
       "            <td>493</td>\n",
       "            <td>-1</td>\n",
       "            <td>-1</td>\n",
       "            <td>-1</td>\n",
       "            <td>-1</td>\n",
       "            <td>-1</td>\n",
       "            <td>-1</td>\n",
       "            <td>-1</td>\n",
       "            <td>-1</td>\n",
       "            <td>DRL83299SPACE1</td>\n",
       "            <td>None</td>\n",
       "            <td>None</td>\n",
       "            <td>0</td>\n",
       "            <td>0</td>\n",
       "            <td>0</td>\n",
       "            <td>0</td>\n",
       "            <td>0</td>\n",
       "            <td>0</td>\n",
       "            <td>0</td>\n",
       "            <td>N</td>\n",
       "            <td>YYYYYYYYYYYYYYYYYYYYYYYYYYYYYYYY</td>\n",
       "            <td>1</td>\n",
       "            <td> </td>\n",
       "            <td>0</td>\n",
       "            <td>-1</td>\n",
       "            <td>N</td>\n",
       "            <td> </td>\n",
       "            <td>None</td>\n",
       "            <td>R</td>\n",
       "            <td> </td>\n",
       "            <td>N</td>\n",
       "            <td>&nbsp;&nbsp;&nbsp;&nbsp;&nbsp;&nbsp;&nbsp;&nbsp;&nbsp;&nbsp;&nbsp;&nbsp;&nbsp;&nbsp;&nbsp;&nbsp;&nbsp;&nbsp;&nbsp;&nbsp;&nbsp;&nbsp;&nbsp;&nbsp;&nbsp;&nbsp;&nbsp;&nbsp;&nbsp;&nbsp;&nbsp;&nbsp;</td>\n",
       "            <td>None</td>\n",
       "            <td>N</td>\n",
       "            <td> </td>\n",
       "            <td>F</td>\n",
       "            <td>None</td>\n",
       "            <td>-1</td>\n",
       "            <td>N</td>\n",
       "            <td>999</td>\n",
       "            <td>-1</td>\n",
       "            <td>-1.0</td>\n",
       "            <td>-1</td>\n",
       "            <td>-1.0</td>\n",
       "            <td>None</td>\n",
       "            <td>1208</td>\n",
       "            <td>SYSIBM</td>\n",
       "            <td>IDENTITY</td>\n",
       "            <td>SYSIBM</td>\n",
       "            <td>IDENTITY</td>\n",
       "            <td> </td>\n",
       "            <td>-1</td>\n",
       "            <td>2022-01-31 10:13:03.351663</td>\n",
       "            <td>0</td>\n",
       "            <td> </td>\n",
       "            <td>None</td>\n",
       "            <td>None</td>\n",
       "            <td>N</td>\n",
       "            <td>DRL83299</td>\n",
       "            <td> </td>\n",
       "            <td> </td>\n",
       "            <td> </td>\n",
       "            <td>0001-01-01</td>\n",
       "            <td> </td>\n",
       "            <td>N</td>\n",
       "            <td>R</td>\n",
       "            <td>N</td>\n",
       "            <td>-1.0</td>\n",
       "            <td>None</td>\n",
       "        </tr>\n",
       "    </tbody>\n",
       "</table>"
      ],
      "text/plain": [
       "[('DRL83299', 'SCHOOLS', 'DRL83299', 'U', 'T', 'N', None, None, None, None, datetime.datetime(2022, 1, 31, 10, 13, 3, 351663), datetime.datetime(2022, 1, 31, 10, 13, 3, 351663), datetime.datetime(2022, 1, 31, 10, 13, 3, 351663), None, 78, 13, 493, -1, -1, -1, -1, -1, -1, -1, -1, 'DRL83299SPACE1', None, None, 0, 0, 0, 0, 0, 0, 0, 'N', 'YYYYYYYYYYYYYYYYYYYYYYYYYYYYYYYY', 1, ' ', '0', -1, 'N', ' ', None, 'R', ' ', 'N', '                                ', None, 'N', ' ', 'F', None, -1, 'N', 999, -1, -1.0, -1, -1.0, None, 1208, 'SYSIBM', 'IDENTITY', 'SYSIBM', 'IDENTITY', ' ', -1, datetime.datetime(2022, 1, 31, 10, 13, 3, 351663), 0, ' ', None, None, 'N', 'DRL83299', ' ', ' ', ' ', datetime.date(1, 1, 1), ' ', 'N', 'R', 'N', -1.0, None)]"
      ]
     },
     "execution_count": 21,
     "metadata": {},
     "output_type": "execute_result"
    }
   ],
   "source": [
    "\n",
    "%sql select * from SYSCAT.TABLES where TABNAME = 'SCHOOLS'"
   ]
  },
  {
   "cell_type": "markdown",
   "metadata": {},
   "source": [
    "Double-click **here** for a hint\n",
    "\n",
    "<!--\n",
    "In Db2 the system catalog table called SYSCAT.TABLES contains the table metadata\n",
    "-->\n"
   ]
  },
  {
   "cell_type": "markdown",
   "metadata": {},
   "source": [
    "Double-click **here** for the solution.\n",
    "\n",
    "<!-- Solution:\n",
    "\n",
    "%sql select TABSCHEMA, TABNAME, CREATE_TIME from SYSCAT.TABLES where TABSCHEMA='YOUR-DB2-USERNAME'\n",
    "\n",
    "or, you can retrieve list of all tables where the schema name is not one of the system created ones:\n",
    "\n",
    "%sql select TABSCHEMA, TABNAME, CREATE_TIME from SYSCAT.TABLES \\\n",
    "      where TABSCHEMA not in ('SYSIBM', 'SYSCAT', 'SYSSTAT', 'SYSIBMADM', 'SYSTOOLS', 'SYSPUBLIC')\n",
    "      \n",
    "or, just query for a specifc table that you want to verify exists in the database\n",
    "%sql select * from SYSCAT.TABLES where TABNAME = 'SCHOOLS'\n",
    "\n",
    "-->\n"
   ]
  },
  {
   "cell_type": "markdown",
   "metadata": {},
   "source": [
    "### Query the database system catalog to retrieve column metadata\n",
    "\n",
    "##### The SCHOOLS table contains a large number of columns. How many columns does this table have?\n"
   ]
  },
  {
   "cell_type": "code",
   "execution_count": 22,
   "metadata": {},
   "outputs": [
    {
     "name": "stdout",
     "output_type": "stream",
     "text": [
      " * ibm_db_sa://drl83299:***@764264db-9824-4b7c-82df-40d1b13897c2.bs2io90l08kqb1od8lcg.databases.appdomain.cloud:32536/BLUDB\n",
      "Done.\n"
     ]
    },
    {
     "data": {
      "text/html": [
       "<table>\n",
       "    <thead>\n",
       "        <tr>\n",
       "            <th>1</th>\n",
       "        </tr>\n",
       "    </thead>\n",
       "    <tbody>\n",
       "        <tr>\n",
       "            <td>78</td>\n",
       "        </tr>\n",
       "    </tbody>\n",
       "</table>"
      ],
      "text/plain": [
       "[(78,)]"
      ]
     },
     "execution_count": 22,
     "metadata": {},
     "output_type": "execute_result"
    }
   ],
   "source": [
    "# type in your query to retrieve the number of columns in the SCHOOLS table\n",
    "%sql select count(*) from SYSCAT.COLUMNS where TABNAME = 'SCHOOLS'"
   ]
  },
  {
   "cell_type": "markdown",
   "metadata": {},
   "source": [
    "Double-click **here** for a hint\n",
    "\n",
    "<!--\n",
    "In Db2 the system catalog table called SYSCAT.COLUMNS contains the column metadata\n",
    "-->\n"
   ]
  },
  {
   "cell_type": "markdown",
   "metadata": {},
   "source": [
    "Double-click **here** for the solution.\n",
    "\n",
    "<!-- Solution:\n",
    "\n",
    "%sql select count(*) from SYSCAT.COLUMNS where TABNAME = 'SCHOOLS'\n",
    "\n",
    "-->\n"
   ]
  },
  {
   "cell_type": "markdown",
   "metadata": {},
   "source": [
    "Now retrieve the the list of columns in SCHOOLS table and their column type (datatype) and length.\n"
   ]
  },
  {
   "cell_type": "code",
   "execution_count": 10,
   "metadata": {},
   "outputs": [
    {
     "name": "stdout",
     "output_type": "stream",
     "text": [
      " * ibm_db_sa://drl83299:***@764264db-9824-4b7c-82df-40d1b13897c2.bs2io90l08kqb1od8lcg.databases.appdomain.cloud:32536/BLUDB\n",
      "Done.\n"
     ]
    },
    {
     "data": {
      "text/html": [
       "<table>\n",
       "    <thead>\n",
       "        <tr>\n",
       "            <th>name</th>\n",
       "            <th>coltype</th>\n",
       "            <th>length</th>\n",
       "        </tr>\n",
       "    </thead>\n",
       "    <tbody>\n",
       "        <tr>\n",
       "            <td>COL1</td>\n",
       "            <td>CHAR    </td>\n",
       "            <td>5</td>\n",
       "        </tr>\n",
       "    </tbody>\n",
       "</table>"
      ],
      "text/plain": [
       "[('COL1', 'CHAR    ', 5)]"
      ]
     },
     "execution_count": 10,
     "metadata": {},
     "output_type": "execute_result"
    }
   ],
   "source": [
    "# type in your query to retrieve all column names in the SCHOOLS table along with their datatypes and length\n",
    "%sql select distinct(NAME), COLTYPE, LENGTH from SYSIBM.SYSCOLUMNS where TBNAME = 'SCHOOLS'"
   ]
  },
  {
   "cell_type": "markdown",
   "metadata": {},
   "source": [
    "Double-click **here** for the solution.\n",
    "\n",
    "<!-- Solution:\n",
    "\n",
    "%sql select COLNAME, TYPENAME, LENGTH from SYSCAT.COLUMNS where TABNAME = 'SCHOOLS'\n",
    "\n",
    "or\n",
    "\n",
    "%sql select distinct(NAME), COLTYPE, LENGTH from SYSIBM.SYSCOLUMNS where TBNAME = 'SCHOOLS'\n",
    "\n",
    "-->\n"
   ]
  },
  {
   "cell_type": "markdown",
   "metadata": {},
   "source": [
    "### Questions\n",
    "\n",
    "1.  Is the column name for the \"SCHOOL ID\" attribute in upper or mixed case?\n",
    "2.  What is the name of \"Community Area Name\" column in your table? Does it have spaces?\n",
    "3.  Are there any columns in whose names the spaces and paranthesis (round brackets) have been replaced by the underscore character \"\\_\"?\n"
   ]
  },
  {
   "cell_type": "markdown",
   "metadata": {},
   "source": [
    "## Problems\n",
    "\n",
    "### Problem 1\n",
    "\n",
    "##### How many Elementary Schools are in the dataset?\n"
   ]
  },
  {
   "cell_type": "code",
   "execution_count": 23,
   "metadata": {},
   "outputs": [
    {
     "name": "stdout",
     "output_type": "stream",
     "text": [
      " * ibm_db_sa://drl83299:***@764264db-9824-4b7c-82df-40d1b13897c2.bs2io90l08kqb1od8lcg.databases.appdomain.cloud:32536/BLUDB\n",
      "Done.\n"
     ]
    },
    {
     "data": {
      "text/html": [
       "<table>\n",
       "    <thead>\n",
       "        <tr>\n",
       "            <th>1</th>\n",
       "        </tr>\n",
       "    </thead>\n",
       "    <tbody>\n",
       "        <tr>\n",
       "            <td>462</td>\n",
       "        </tr>\n",
       "    </tbody>\n",
       "</table>"
      ],
      "text/plain": [
       "[(462,)]"
      ]
     },
     "execution_count": 23,
     "metadata": {},
     "output_type": "execute_result"
    }
   ],
   "source": [
    "%sql select count(*) from SCHOOLS where \"Elementary, Middle, or High School\" = 'ES'"
   ]
  },
  {
   "cell_type": "markdown",
   "metadata": {},
   "source": [
    "Double-click **here** for a hint\n",
    "\n",
    "<!--\n",
    "Which column specifies the school type e.g. 'ES', 'MS', 'HS'? (\"Elementary School, Middle School, High School\")\n",
    "-->\n"
   ]
  },
  {
   "cell_type": "markdown",
   "metadata": {},
   "source": [
    "Double-click **here** for another hint\n",
    "\n",
    "<!--\n",
    "Does the column name have mixed case, spaces or other special characters?\n",
    "If so, ensure you use double quotes around the \"Name of the Column\"\n",
    "-->\n"
   ]
  },
  {
   "cell_type": "markdown",
   "metadata": {},
   "source": [
    "Double-click **here** for the solution.\n",
    "\n",
    "<!-- Solution:\n",
    "\n",
    "%sql select count(*) from SCHOOLS where \"Elementary, Middle, or High School\" = 'ES'\n",
    "\n",
    "Correct answer: 462\n",
    "\n",
    "-->\n"
   ]
  },
  {
   "cell_type": "markdown",
   "metadata": {},
   "source": [
    "### Problem 2\n",
    "\n",
    "##### What is the highest Safety Score?\n"
   ]
  },
  {
   "cell_type": "code",
   "execution_count": 24,
   "metadata": {},
   "outputs": [
    {
     "name": "stdout",
     "output_type": "stream",
     "text": [
      " * ibm_db_sa://drl83299:***@764264db-9824-4b7c-82df-40d1b13897c2.bs2io90l08kqb1od8lcg.databases.appdomain.cloud:32536/BLUDB\n",
      "Done.\n"
     ]
    },
    {
     "data": {
      "text/html": [
       "<table>\n",
       "    <thead>\n",
       "        <tr>\n",
       "            <th>max_safety_score</th>\n",
       "        </tr>\n",
       "    </thead>\n",
       "    <tbody>\n",
       "        <tr>\n",
       "            <td>99</td>\n",
       "        </tr>\n",
       "    </tbody>\n",
       "</table>"
      ],
      "text/plain": [
       "[(99,)]"
      ]
     },
     "execution_count": 24,
     "metadata": {},
     "output_type": "execute_result"
    }
   ],
   "source": [
    "%sql select MAX(Safety_Score) AS MAX_SAFETY_SCORE from SCHOOLS"
   ]
  },
  {
   "cell_type": "markdown",
   "metadata": {},
   "source": [
    "Double-click **here** for a hint\n",
    "\n",
    "<!--\n",
    "Use the MAX() function\n",
    "-->\n"
   ]
  },
  {
   "cell_type": "markdown",
   "metadata": {},
   "source": [
    "Double-click **here** for the solution.\n",
    "\n",
    "<!-- Hint:\n",
    "\n",
    "%sql select MAX(Safety_Score) AS MAX_SAFETY_SCORE from SCHOOLS\n",
    "\n",
    "Correct answer: 99\n",
    "-->\n"
   ]
  },
  {
   "cell_type": "markdown",
   "metadata": {},
   "source": [
    "### Problem 3\n",
    "\n",
    "##### Which schools have highest Safety Score?\n"
   ]
  },
  {
   "cell_type": "code",
   "execution_count": 25,
   "metadata": {},
   "outputs": [
    {
     "name": "stdout",
     "output_type": "stream",
     "text": [
      " * ibm_db_sa://drl83299:***@764264db-9824-4b7c-82df-40d1b13897c2.bs2io90l08kqb1od8lcg.databases.appdomain.cloud:32536/BLUDB\n",
      "Done.\n"
     ]
    },
    {
     "data": {
      "text/html": [
       "<table>\n",
       "    <thead>\n",
       "        <tr>\n",
       "            <th>name_of_school</th>\n",
       "            <th>safety_score</th>\n",
       "        </tr>\n",
       "    </thead>\n",
       "    <tbody>\n",
       "        <tr>\n",
       "            <td>Abraham Lincoln Elementary School</td>\n",
       "            <td>99</td>\n",
       "        </tr>\n",
       "        <tr>\n",
       "            <td>Alexander Graham Bell Elementary School</td>\n",
       "            <td>99</td>\n",
       "        </tr>\n",
       "        <tr>\n",
       "            <td>Annie Keller Elementary Gifted Magnet School</td>\n",
       "            <td>99</td>\n",
       "        </tr>\n",
       "        <tr>\n",
       "            <td>Augustus H Burley Elementary School</td>\n",
       "            <td>99</td>\n",
       "        </tr>\n",
       "        <tr>\n",
       "            <td>Edgar Allan Poe Elementary Classical School</td>\n",
       "            <td>99</td>\n",
       "        </tr>\n",
       "        <tr>\n",
       "            <td>Edgebrook Elementary School</td>\n",
       "            <td>99</td>\n",
       "        </tr>\n",
       "        <tr>\n",
       "            <td>Ellen Mitchell Elementary School</td>\n",
       "            <td>99</td>\n",
       "        </tr>\n",
       "        <tr>\n",
       "            <td>James E McDade Elementary Classical School</td>\n",
       "            <td>99</td>\n",
       "        </tr>\n",
       "        <tr>\n",
       "            <td>James G Blaine Elementary School</td>\n",
       "            <td>99</td>\n",
       "        </tr>\n",
       "        <tr>\n",
       "            <td>LaSalle Elementary Language Academy</td>\n",
       "            <td>99</td>\n",
       "        </tr>\n",
       "        <tr>\n",
       "            <td>Mary E Courtenay Elementary Language Arts Center</td>\n",
       "            <td>99</td>\n",
       "        </tr>\n",
       "        <tr>\n",
       "            <td>Northside College Preparatory High School</td>\n",
       "            <td>99</td>\n",
       "        </tr>\n",
       "        <tr>\n",
       "            <td>Northside Learning Center High School</td>\n",
       "            <td>99</td>\n",
       "        </tr>\n",
       "        <tr>\n",
       "            <td>Norwood Park Elementary School</td>\n",
       "            <td>99</td>\n",
       "        </tr>\n",
       "        <tr>\n",
       "            <td>Oriole Park Elementary School</td>\n",
       "            <td>99</td>\n",
       "        </tr>\n",
       "        <tr>\n",
       "            <td>Sauganash Elementary School</td>\n",
       "            <td>99</td>\n",
       "        </tr>\n",
       "        <tr>\n",
       "            <td>Stephen Decatur Classical Elementary School</td>\n",
       "            <td>99</td>\n",
       "        </tr>\n",
       "        <tr>\n",
       "            <td>Talman Elementary School</td>\n",
       "            <td>99</td>\n",
       "        </tr>\n",
       "        <tr>\n",
       "            <td>Wildwood Elementary School</td>\n",
       "            <td>99</td>\n",
       "        </tr>\n",
       "    </tbody>\n",
       "</table>"
      ],
      "text/plain": [
       "[('Abraham Lincoln Elementary School', 99),\n",
       " ('Alexander Graham Bell Elementary School', 99),\n",
       " ('Annie Keller Elementary Gifted Magnet School', 99),\n",
       " ('Augustus H Burley Elementary School', 99),\n",
       " ('Edgar Allan Poe Elementary Classical School', 99),\n",
       " ('Edgebrook Elementary School', 99),\n",
       " ('Ellen Mitchell Elementary School', 99),\n",
       " ('James E McDade Elementary Classical School', 99),\n",
       " ('James G Blaine Elementary School', 99),\n",
       " ('LaSalle Elementary Language Academy', 99),\n",
       " ('Mary E Courtenay Elementary Language Arts Center', 99),\n",
       " ('Northside College Preparatory High School', 99),\n",
       " ('Northside Learning Center High School', 99),\n",
       " ('Norwood Park Elementary School', 99),\n",
       " ('Oriole Park Elementary School', 99),\n",
       " ('Sauganash Elementary School', 99),\n",
       " ('Stephen Decatur Classical Elementary School', 99),\n",
       " ('Talman Elementary School', 99),\n",
       " ('Wildwood Elementary School', 99)]"
      ]
     },
     "execution_count": 25,
     "metadata": {},
     "output_type": "execute_result"
    }
   ],
   "source": [
    "%sql select Name_of_School, Safety_Score from SCHOOLS where \\\n",
    "  Safety_Score= (select MAX(Safety_Score) from SCHOOLS)"
   ]
  },
  {
   "cell_type": "markdown",
   "metadata": {},
   "source": [
    "Double-click **here** for the solution.\n",
    "\n",
    "<!-- Solution:\n",
    "In the previous problem we found out that the highest Safety Score is 99, so we can use that as an input in the where clause:\n",
    "\n",
    "%sql select Name_of_School, Safety_Score from SCHOOLS where Safety_Score = 99\n",
    "\n",
    "or, a better way:\n",
    "\n",
    "%sql select Name_of_School, Safety_Score from SCHOOLS where \\\n",
    "  Safety_Score= (select MAX(Safety_Score) from SCHOOLS)\n",
    "\n",
    "\n",
    "Correct answer: several schools with with Safety Score of 99.\n",
    "-->\n"
   ]
  },
  {
   "cell_type": "markdown",
   "metadata": {},
   "source": [
    "### Problem 4\n",
    "\n",
    "##### What are the top 10 schools with the highest \"Average Student Attendance\"?\n"
   ]
  },
  {
   "cell_type": "code",
   "execution_count": 26,
   "metadata": {},
   "outputs": [
    {
     "name": "stdout",
     "output_type": "stream",
     "text": [
      " * ibm_db_sa://drl83299:***@764264db-9824-4b7c-82df-40d1b13897c2.bs2io90l08kqb1od8lcg.databases.appdomain.cloud:32536/BLUDB\n",
      "Done.\n"
     ]
    },
    {
     "data": {
      "text/html": [
       "<table>\n",
       "    <thead>\n",
       "        <tr>\n",
       "            <th>name_of_school</th>\n",
       "            <th>average_student_attendance</th>\n",
       "        </tr>\n",
       "    </thead>\n",
       "    <tbody>\n",
       "        <tr>\n",
       "            <td>John Charles Haines Elementary School</td>\n",
       "            <td>98.40%</td>\n",
       "        </tr>\n",
       "        <tr>\n",
       "            <td>James Ward Elementary School</td>\n",
       "            <td>97.80%</td>\n",
       "        </tr>\n",
       "        <tr>\n",
       "            <td>Edgar Allan Poe Elementary Classical School</td>\n",
       "            <td>97.60%</td>\n",
       "        </tr>\n",
       "        <tr>\n",
       "            <td>Orozco Fine Arts &amp; Sciences Elementary School</td>\n",
       "            <td>97.60%</td>\n",
       "        </tr>\n",
       "        <tr>\n",
       "            <td>Rachel Carson Elementary School</td>\n",
       "            <td>97.60%</td>\n",
       "        </tr>\n",
       "        <tr>\n",
       "            <td>Annie Keller Elementary Gifted Magnet School</td>\n",
       "            <td>97.50%</td>\n",
       "        </tr>\n",
       "        <tr>\n",
       "            <td>Andrew Jackson Elementary Language Academy</td>\n",
       "            <td>97.40%</td>\n",
       "        </tr>\n",
       "        <tr>\n",
       "            <td>Lenart Elementary Regional Gifted Center</td>\n",
       "            <td>97.40%</td>\n",
       "        </tr>\n",
       "        <tr>\n",
       "            <td>Disney II Magnet School</td>\n",
       "            <td>97.30%</td>\n",
       "        </tr>\n",
       "        <tr>\n",
       "            <td>John H Vanderpoel Elementary Magnet School</td>\n",
       "            <td>97.20%</td>\n",
       "        </tr>\n",
       "    </tbody>\n",
       "</table>"
      ],
      "text/plain": [
       "[('John Charles Haines Elementary School', '98.40%'),\n",
       " ('James Ward Elementary School', '97.80%'),\n",
       " ('Edgar Allan Poe Elementary Classical School', '97.60%'),\n",
       " ('Orozco Fine Arts & Sciences Elementary School', '97.60%'),\n",
       " ('Rachel Carson Elementary School', '97.60%'),\n",
       " ('Annie Keller Elementary Gifted Magnet School', '97.50%'),\n",
       " ('Andrew Jackson Elementary Language Academy', '97.40%'),\n",
       " ('Lenart Elementary Regional Gifted Center', '97.40%'),\n",
       " ('Disney II Magnet School', '97.30%'),\n",
       " ('John H Vanderpoel Elementary Magnet School', '97.20%')]"
      ]
     },
     "execution_count": 26,
     "metadata": {},
     "output_type": "execute_result"
    }
   ],
   "source": [
    "%sql select Name_of_School, Average_Student_Attendance from SCHOOLS \\\n",
    "    order by Average_Student_Attendance desc nulls last limit 10 "
   ]
  },
  {
   "cell_type": "markdown",
   "metadata": {},
   "source": [
    "Double-click **here** for the solution.\n",
    "\n",
    "<!-- Solution:\n",
    "\n",
    "%sql select Name_of_School, Average_Student_Attendance from SCHOOLS \\\n",
    "    order by Average_Student_Attendance desc nulls last limit 10 \n",
    "\n",
    "-->\n"
   ]
  },
  {
   "cell_type": "markdown",
   "metadata": {},
   "source": [
    "### Problem 5\n",
    "\n",
    "##### Retrieve the list of 5 Schools with the lowest Average Student Attendance sorted in ascending order based on attendance\n"
   ]
  },
  {
   "cell_type": "code",
   "execution_count": 27,
   "metadata": {},
   "outputs": [
    {
     "name": "stdout",
     "output_type": "stream",
     "text": [
      " * ibm_db_sa://drl83299:***@764264db-9824-4b7c-82df-40d1b13897c2.bs2io90l08kqb1od8lcg.databases.appdomain.cloud:32536/BLUDB\n",
      "Done.\n"
     ]
    },
    {
     "data": {
      "text/html": [
       "<table>\n",
       "    <thead>\n",
       "        <tr>\n",
       "            <th>name_of_school</th>\n",
       "            <th>average_student_attendance</th>\n",
       "        </tr>\n",
       "    </thead>\n",
       "    <tbody>\n",
       "        <tr>\n",
       "            <td>Richard T Crane Technical Preparatory High School</td>\n",
       "            <td>57.90%</td>\n",
       "        </tr>\n",
       "        <tr>\n",
       "            <td>Barbara Vick Early Childhood &amp; Family Center</td>\n",
       "            <td>60.90%</td>\n",
       "        </tr>\n",
       "        <tr>\n",
       "            <td>Dyett High School</td>\n",
       "            <td>62.50%</td>\n",
       "        </tr>\n",
       "        <tr>\n",
       "            <td>Wendell Phillips Academy High School</td>\n",
       "            <td>63.00%</td>\n",
       "        </tr>\n",
       "        <tr>\n",
       "            <td>Orr Academy High School</td>\n",
       "            <td>66.30%</td>\n",
       "        </tr>\n",
       "    </tbody>\n",
       "</table>"
      ],
      "text/plain": [
       "[('Richard T Crane Technical Preparatory High School', '57.90%'),\n",
       " ('Barbara Vick Early Childhood & Family Center', '60.90%'),\n",
       " ('Dyett High School', '62.50%'),\n",
       " ('Wendell Phillips Academy High School', '63.00%'),\n",
       " ('Orr Academy High School', '66.30%')]"
      ]
     },
     "execution_count": 27,
     "metadata": {},
     "output_type": "execute_result"
    }
   ],
   "source": [
    "%sql SELECT Name_of_School, Average_Student_Attendance  \\\n",
    "     from SCHOOLS \\\n",
    "     order by Average_Student_Attendance \\\n",
    "     fetch first 5 rows only"
   ]
  },
  {
   "cell_type": "markdown",
   "metadata": {},
   "source": [
    "Double-click **here** for the solution.\n",
    "\n",
    "<!-- Solution:\n",
    "\n",
    "%sql SELECT Name_of_School, Average_Student_Attendance  \\\n",
    "     from SCHOOLS \\\n",
    "     order by Average_Student_Attendance \\\n",
    "     fetch first 5 rows only\n",
    "\n",
    "-->\n"
   ]
  },
  {
   "cell_type": "markdown",
   "metadata": {},
   "source": [
    "### Problem 6\n",
    "\n",
    "##### Now remove the '%' sign from the above result set for Average Student Attendance column\n"
   ]
  },
  {
   "cell_type": "code",
   "execution_count": 28,
   "metadata": {},
   "outputs": [
    {
     "name": "stdout",
     "output_type": "stream",
     "text": [
      " * ibm_db_sa://drl83299:***@764264db-9824-4b7c-82df-40d1b13897c2.bs2io90l08kqb1od8lcg.databases.appdomain.cloud:32536/BLUDB\n",
      "Done.\n"
     ]
    },
    {
     "data": {
      "text/html": [
       "<table>\n",
       "    <thead>\n",
       "        <tr>\n",
       "            <th>name_of_school</th>\n",
       "            <th>2</th>\n",
       "        </tr>\n",
       "    </thead>\n",
       "    <tbody>\n",
       "        <tr>\n",
       "            <td>Richard T Crane Technical Preparatory High School</td>\n",
       "            <td>57.90</td>\n",
       "        </tr>\n",
       "        <tr>\n",
       "            <td>Barbara Vick Early Childhood &amp; Family Center</td>\n",
       "            <td>60.90</td>\n",
       "        </tr>\n",
       "        <tr>\n",
       "            <td>Dyett High School</td>\n",
       "            <td>62.50</td>\n",
       "        </tr>\n",
       "        <tr>\n",
       "            <td>Wendell Phillips Academy High School</td>\n",
       "            <td>63.00</td>\n",
       "        </tr>\n",
       "        <tr>\n",
       "            <td>Orr Academy High School</td>\n",
       "            <td>66.30</td>\n",
       "        </tr>\n",
       "    </tbody>\n",
       "</table>"
      ],
      "text/plain": [
       "[('Richard T Crane Technical Preparatory High School', '57.90'),\n",
       " ('Barbara Vick Early Childhood & Family Center', '60.90'),\n",
       " ('Dyett High School', '62.50'),\n",
       " ('Wendell Phillips Academy High School', '63.00'),\n",
       " ('Orr Academy High School', '66.30')]"
      ]
     },
     "execution_count": 28,
     "metadata": {},
     "output_type": "execute_result"
    }
   ],
   "source": [
    "%sql SELECT Name_of_School, REPLACE(Average_Student_Attendance, '%', '') \\\n",
    "     from SCHOOLS \\\n",
    "     order by Average_Student_Attendance \\\n",
    "     fetch first 5 rows only"
   ]
  },
  {
   "cell_type": "markdown",
   "metadata": {},
   "source": [
    "Double-click **here** for a hint\n",
    "\n",
    "<!--\n",
    "Use the REPLACE() function to replace '%' with ''\n",
    "See documentation for this function at:\n",
    "https://www.ibm.com/support/knowledgecenter/en/SSEPGG_10.5.0/com.ibm.db2.luw.sql.ref.doc/doc/r0000843.html\n",
    "-->\n"
   ]
  },
  {
   "cell_type": "markdown",
   "metadata": {},
   "source": [
    "Double-click **here** for the solution.\n",
    "\n",
    "<!-- Hint:\n",
    "\n",
    "%sql SELECT Name_of_School, REPLACE(Average_Student_Attendance, '%', '') \\\n",
    "     from SCHOOLS \\\n",
    "     order by Average_Student_Attendance \\\n",
    "     fetch first 5 rows only\n",
    "\n",
    "-->\n"
   ]
  },
  {
   "cell_type": "markdown",
   "metadata": {},
   "source": [
    "### Problem 7\n",
    "\n",
    "##### Which Schools have Average Student Attendance lower than 70%?\n"
   ]
  },
  {
   "cell_type": "code",
   "execution_count": 29,
   "metadata": {},
   "outputs": [
    {
     "name": "stdout",
     "output_type": "stream",
     "text": [
      " * ibm_db_sa://drl83299:***@764264db-9824-4b7c-82df-40d1b13897c2.bs2io90l08kqb1od8lcg.databases.appdomain.cloud:32536/BLUDB\n",
      "Done.\n"
     ]
    },
    {
     "data": {
      "text/html": [
       "<table>\n",
       "    <thead>\n",
       "        <tr>\n",
       "            <th>name_of_school</th>\n",
       "            <th>average_student_attendance</th>\n",
       "        </tr>\n",
       "    </thead>\n",
       "    <tbody>\n",
       "        <tr>\n",
       "            <td>Richard T Crane Technical Preparatory High School</td>\n",
       "            <td>57.90%</td>\n",
       "        </tr>\n",
       "        <tr>\n",
       "            <td>Barbara Vick Early Childhood &amp; Family Center</td>\n",
       "            <td>60.90%</td>\n",
       "        </tr>\n",
       "        <tr>\n",
       "            <td>Dyett High School</td>\n",
       "            <td>62.50%</td>\n",
       "        </tr>\n",
       "        <tr>\n",
       "            <td>Wendell Phillips Academy High School</td>\n",
       "            <td>63.00%</td>\n",
       "        </tr>\n",
       "        <tr>\n",
       "            <td>Orr Academy High School</td>\n",
       "            <td>66.30%</td>\n",
       "        </tr>\n",
       "        <tr>\n",
       "            <td>Manley Career Academy High School</td>\n",
       "            <td>66.80%</td>\n",
       "        </tr>\n",
       "        <tr>\n",
       "            <td>Chicago Vocational Career Academy High School</td>\n",
       "            <td>68.80%</td>\n",
       "        </tr>\n",
       "        <tr>\n",
       "            <td>Roberto Clemente Community Academy High School</td>\n",
       "            <td>69.60%</td>\n",
       "        </tr>\n",
       "    </tbody>\n",
       "</table>"
      ],
      "text/plain": [
       "[('Richard T Crane Technical Preparatory High School', '57.90%'),\n",
       " ('Barbara Vick Early Childhood & Family Center', '60.90%'),\n",
       " ('Dyett High School', '62.50%'),\n",
       " ('Wendell Phillips Academy High School', '63.00%'),\n",
       " ('Orr Academy High School', '66.30%'),\n",
       " ('Manley Career Academy High School', '66.80%'),\n",
       " ('Chicago Vocational Career Academy High School', '68.80%'),\n",
       " ('Roberto Clemente Community Academy High School', '69.60%')]"
      ]
     },
     "execution_count": 29,
     "metadata": {},
     "output_type": "execute_result"
    }
   ],
   "source": [
    "%sql SELECT Name_of_School, Average_Student_Attendance  \\\n",
    "     from SCHOOLS \\\n",
    "     where DECIMAL ( REPLACE(Average_Student_Attendance, '%', '') ) < 70 \\\n",
    "     order by Average_Student_Attendance"
   ]
  },
  {
   "cell_type": "markdown",
   "metadata": {},
   "source": [
    "Double-click **here** for a hint\n",
    "\n",
    "<!--\n",
    "The datatype of the \"Average_Student_Attendance\" column is varchar.\n",
    "So you cannot use it as is in the where clause for a numeric comparison.\n",
    "First use the CAST() function to cast it as a DECIMAL or DOUBLE\n",
    "e.g. CAST(\"Column_Name\" as DOUBLE)\n",
    "or simply: DECIMAL(\"Column_Name\")\n",
    "-->\n"
   ]
  },
  {
   "cell_type": "markdown",
   "metadata": {},
   "source": [
    "Double-click **here** for another hint\n",
    "\n",
    "<!--\n",
    "Don't forget the '%' age sign needs to be removed before casting\n",
    "-->\n"
   ]
  },
  {
   "cell_type": "markdown",
   "metadata": {},
   "source": [
    "Double-click **here** for the solution.\n",
    "\n",
    "<!-- Solution:\n",
    "\n",
    "%sql SELECT Name_of_School, Average_Student_Attendance  \\\n",
    "     from SCHOOLS \\\n",
    "     where CAST ( REPLACE(Average_Student_Attendance, '%', '') AS DOUBLE ) < 70 \\\n",
    "     order by Average_Student_Attendance\n",
    "     \n",
    "or,\n",
    "\n",
    "%sql SELECT Name_of_School, Average_Student_Attendance  \\\n",
    "     from SCHOOLS \\\n",
    "     where DECIMAL ( REPLACE(Average_Student_Attendance, '%', '') ) < 70 \\\n",
    "     order by Average_Student_Attendance\n",
    "\n",
    "-->\n"
   ]
  },
  {
   "cell_type": "markdown",
   "metadata": {},
   "source": [
    "### Problem 8\n",
    "\n",
    "##### Get the total College Enrollment for each Community Area\n"
   ]
  },
  {
   "cell_type": "code",
   "execution_count": null,
   "metadata": {},
   "outputs": [],
   "source": [
    "%sql select Community_Area_Name, sum(College_Enrollment) AS TOTAL_ENROLLMENT \\\n",
    "   from SCHOOLS \\\n",
    "   group by Community_Area_Name "
   ]
  },
  {
   "cell_type": "markdown",
   "metadata": {},
   "source": [
    "Double-click **here** for a hint\n",
    "\n",
    "<!--\n",
    "Verify the exact name of the Enrollment column in the database\n",
    "Use the SUM() function to add up the Enrollments for each Community Area\n",
    "-->\n"
   ]
  },
  {
   "cell_type": "markdown",
   "metadata": {},
   "source": [
    "Double-click **here** for another hint\n",
    "\n",
    "<!--\n",
    "Don't forget to group by the Community Area\n",
    "-->\n"
   ]
  },
  {
   "cell_type": "markdown",
   "metadata": {},
   "source": [
    "Double-click **here** for the solution.\n",
    "\n",
    "<!-- Solution:\n",
    "\n",
    "%sql select Community_Area_Name, sum(College_Enrollment) AS TOTAL_ENROLLMENT \\\n",
    "   from SCHOOLS \\\n",
    "   group by Community_Area_Name \n",
    "\n",
    "-->\n"
   ]
  },
  {
   "cell_type": "markdown",
   "metadata": {},
   "source": [
    "### Problem 9\n",
    "\n",
    "##### Get the 5 Community Areas with the least total College Enrollment  sorted in ascending order\n"
   ]
  },
  {
   "cell_type": "code",
   "execution_count": null,
   "metadata": {},
   "outputs": [],
   "source": []
  },
  {
   "cell_type": "markdown",
   "metadata": {},
   "source": [
    "Double-click **here** for a hint\n",
    "\n",
    "<!--\n",
    "Order the previous query and limit the number of rows you fetch\n",
    "-->\n"
   ]
  },
  {
   "cell_type": "markdown",
   "metadata": {},
   "source": [
    "Double-click **here** for the solution.\n",
    "\n",
    "<!-- Solution:\n",
    "\n",
    "%sql select Community_Area_Name, sum(College_Enrollment) AS TOTAL_ENROLLMENT \\\n",
    "   from SCHOOLS \\\n",
    "   group by Community_Area_Name \\\n",
    "   order by TOTAL_ENROLLMENT asc \\\n",
    "   fetch first 5 rows only\n",
    "\n",
    "-->\n"
   ]
  },
  {
   "cell_type": "markdown",
   "metadata": {},
   "source": [
    "### Problem 10\n",
    "\n",
    "##### List 5 schools with lowest safety score.\n"
   ]
  },
  {
   "cell_type": "code",
   "execution_count": null,
   "metadata": {},
   "outputs": [],
   "source": []
  },
  {
   "cell_type": "markdown",
   "metadata": {},
   "source": [
    "Double-click **here** for the solution.\n",
    "\n",
    "<!-- Solution:\n",
    "\n",
    "%sql SELECT name_of_school, safety_score \\\n",
    "FROM schools \\\n",
    "ORDER BY safety_score \\\n",
    "LIMIT 5\n",
    "-->\n"
   ]
  },
  {
   "cell_type": "markdown",
   "metadata": {},
   "source": [
    "### Problem 11\n",
    "\n",
    "##### Get the hardship index for the community area which has College Enrollment of 4368\n"
   ]
  },
  {
   "cell_type": "code",
   "execution_count": null,
   "metadata": {},
   "outputs": [],
   "source": []
  },
  {
   "cell_type": "markdown",
   "metadata": {},
   "source": [
    "Double-click **here** for the solution.\n",
    "\n",
    "<!-- Solution:\n",
    "NOTE: For this solution to work the CHICAGO_SOCIOECONOMIC_DATA table \n",
    "      as created in the last lab of Week 3 should already exist\n",
    "\n",
    "%%sql \n",
    "select hardship_index \n",
    "   from chicago_socioeconomic_data CD, schools CPS \n",
    "   where CD.ca = CPS.community_area_number \n",
    "      and college_enrollment = 4368\n",
    "\n",
    "-->\n"
   ]
  },
  {
   "cell_type": "markdown",
   "metadata": {},
   "source": [
    "### Problem 12\n",
    "\n",
    "##### Get the hardship index for the community area which has the school with the  highest enrollment.\n"
   ]
  },
  {
   "cell_type": "code",
   "execution_count": null,
   "metadata": {},
   "outputs": [],
   "source": []
  },
  {
   "cell_type": "markdown",
   "metadata": {},
   "source": [
    "Double-click **here** for the solution.\n",
    "\n",
    "<!-- Solution:\n",
    "NOTE: For this solution to work the CHICAGO_SOCIOECONOMIC_DATA table \n",
    "      as created in the last lab of Week 3 should already exist\n",
    "\n",
    "%sql select ca, community_area_name, hardship_index from chicago_socioeconomic_data \\\n",
    "   where ca in \\\n",
    "   ( select community_area_number from schools order by college_enrollment desc limit 1 )\n",
    "\n",
    "-->\n"
   ]
  },
  {
   "cell_type": "markdown",
   "metadata": {},
   "source": [
    "## Summary\n",
    "\n",
    "##### In this lab you learned how to work with a real word dataset using SQL and Python. You learned how to query columns with spaces or special characters in their names and with mixed case names. You also used built in database functions and practiced how to sort, limit, and order result sets, as well as used sub-queries and worked with multiple tables.\n"
   ]
  },
  {
   "cell_type": "markdown",
   "metadata": {},
   "source": [
    "## Author\n",
    "\n",
    "<a href=\"https://www.linkedin.com/in/ravahuja/?utm_medium=Exinfluencer&utm_source=Exinfluencer&utm_content=000026UJ&utm_term=10006555&utm_id=NA-SkillsNetwork-Channel-SkillsNetworkCoursesIBMDeveloperSkillsNetworkDB0201ENSkillsNetwork20127838-2021-01-01\" target=\"_blank\">Rav Ahuja</a>\n",
    "\n",
    "## Change Log\n",
    "\n",
    "| Date (YYYY-MM-DD) | Version | Changed By        | Change Description                        |\n",
    "| ----------------- | ------- | ----------------- | ----------------------------------------- |\n",
    "| 2021-07-09        | 2.4     | Malika            | Updated connection string                 |\n",
    "| 2021-05-19        | 2.3     | Lakshmi Holla     | Updated question                          |\n",
    "| 2021-04-20        | 2.2     | Malika            | Added the libraries                       |\n",
    "| 2020-11-27        | 2.1     | Sannareddy Ramesh | Modified data sets and added new problems |\n",
    "| 2020-08-28        | 2.0     | Lavanya           | Moved lab to course repo in GitLab        |\n",
    "\n",
    "<hr>\n",
    "\n",
    "## <h3 align=\"center\"> © IBM Corporation 2020. All rights reserved. <h3/>\n"
   ]
  }
 ],
 "metadata": {
  "celltoolbar": "Raw Cell Format",
  "kernelspec": {
   "display_name": "Python",
   "language": "python",
   "name": "conda-env-python-py"
  },
  "language_info": {
   "codemirror_mode": {
    "name": "ipython",
    "version": 3
   },
   "file_extension": ".py",
   "mimetype": "text/x-python",
   "name": "python",
   "nbconvert_exporter": "python",
   "pygments_lexer": "ipython3",
   "version": "3.7.12"
  },
  "widgets": {
   "state": {},
   "version": "1.1.2"
  }
 },
 "nbformat": 4,
 "nbformat_minor": 4
}
